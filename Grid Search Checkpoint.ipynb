{
 "cells": [
  {
   "cell_type": "markdown",
   "id": "3bb86d4b",
   "metadata": {},
   "source": [
    "Todo\n",
    "* delete the iterated hyperparameters\n",
    "* write to csv with columns- parameter, accuracy , error\n"
    "* find best params from that csv"
   ]
  },
  {
   "cell_type": "markdown",
   "id": "8284a5ae",
   "metadata": {},
   "source": [
    "## Sample Input"
   ]
  },
  {
   "cell_type": "code",
   "execution_count": 1,
   "id": "a2c2f37f",
   "metadata": {},
   "outputs": [],
   "source": [
    "from sklearn.model_selection import ParameterGrid\n",
    "from sklearn.model_selection import train_test_split\n",
    "import pandas as pd"
   ]
  },
  {
   "cell_type": "markdown",
   "id": "c20c65ed",
   "metadata": {},
   "source": [
    "### Classification"
   ]
  },
  {
   "cell_type": "code",
   "execution_count": 2,
   "id": "dcde2137",
   "metadata": {},
   "outputs": [],
   "source": [
    "data=pd.read_csv('diabetes.csv')\n",
    "X=data.drop(\"Outcome\",axis=1)\n",
    "y=data['Outcome']\n",
    "X_train,X_test,y_train,y_test=train_test_split(X,y,test_size=0.3,random_state=42)\n",
    "\n",
    "svc_para = {'kernel': ['sigmoid',\"linear\"], 'gamma': [1, 10]}\n",
    "para = ParameterGrid(svc_para)\n",
    "\n",
    "from sklearn.svm import SVC\n",
    "model = SVC()"
   ]
  },
  {
   "cell_type": "markdown",
   "id": "244786c9",
   "metadata": {},
   "source": [
    "### Regression"
   ]
  },
  {
   "cell_type": "code",
   "execution_count": 3,
   "id": "f276234a",
   "metadata": {},
   "outputs": [],
   "source": [
    "# data =pd.read_csv('USA_Housing.csv')\n",
    "# X=data.drop([\"Address\",'Price'], axis=1)\n",
    "# y=data['Price']\n",
    "# X_train,X_test,y_train,y_test=train_test_split(X,y,test_size=0.3,random_state=42)\n",
    "\n",
    "# knn_reg_para = {\"n_neighbors\" : [1,2,3,4,5], \"weights\" : [\"uniform\", \"distance\"]}\n",
    "# para = ParameterGrid(knn_reg_para)\n",
    "\n",
    "# from sklearn.neighbors import KNeighborsRegressor\n",
    "# model = KNeighborsRegressor()"
   ]
  },
  {
   "cell_type": "code",
   "execution_count": 4,
   "id": "98cab456",
   "metadata": {},
   "outputs": [],
   "source": [
    "from sklearn.model_selection import ParameterGrid\n",
    "from sklearn.base import is_classifier, is_regressor\n",
    "from sklearn.metrics import log_loss\n",
    "from sklearn.metrics import mean_squared_error    \n",
    "import sys\n",
    "\n",
    "class GridCheckpoint:\n",
    "\n",
    "    def __init__(self,model, params, X_train, X_test, y_train, y_test):\n",
    "        self.model = model\n",
    "        self.params = params\n",
    "        self.X_train = X_train\n",
    "        self.X_test = X_test\n",
    "        self.y_train = y_train\n",
    "        self.y_test = y_test\n",
    "        \n",
    "    def save_log(self,text):\n",
    "        file = open(\"history.txt\", \"a\")\n",
    "        file.write(text+\"\\n\")\n",
    "        file.close()\n",
    "        \n",
    "    def run(self):\n",
    "        for p in self.params:\n",
    "            self.save_log(\"Hyperparameters - \" + str(p)) \n",
    "            \n",
    "            if is_classifier(self.model):\n",
    "                if not(self.model.get_params()[\"probability\"]):  # probability=false in SVC causes error in predict_proba in self.score if is_classifier\n",
    "                    model = self.model.__class__(**p,probability=True).fit(self.X_train,self.y_train) # must use **kwargs when using ParameterGrid\n",
    "            else:\n",
    "                model = self.model.__class__(**p).fit(self.X_train,self.y_train)\n",
    "                \n",
    "            self.score(model)\n",
    "            self.save_log(\"\\t------------------------------------\")\n",
    "            \n",
    "    def score(self,fitted_model):\n",
    "        self.save_log(\"Train Accuracy: {} | Test Accuracy: {}\".format(fitted_model.score(self.X_train,self.y_train), \n",
    "                                                            fitted_model.score(self.X_test,self.y_test)))\n",
    "        if is_classifier(self.model):\n",
    "            self.save_log(\"Train Loss: {} | Test Loss: {}\".format(log_loss(self.y_train, fitted_model.predict_proba(X_train)),\n",
    "                                                        log_loss(self.y_test, fitted_model.predict_proba(X_test))))\n",
    "        if is_regressor(self.model):\n",
    "            self.save_log(\"Train Loss: {} | Test Loss: {}\".format(mean_squared_error(self.y_train, fitted_model.predict(X_train)),\n",
    "                                                        mean_squared_error(self.y_test, fitted_model.predict(X_test))))"
   ]
  },
  {
   "cell_type": "code",
   "execution_count": 5,
   "id": "374d7f2c",
   "metadata": {},
   "outputs": [],
   "source": [
    "grid = GridCheckpoint(model, para,X_train,X_test,y_train,y_test)"
   ]
  },
  {
   "cell_type": "code",
   "execution_count": 6,
   "id": "abd61353",
   "metadata": {},
   "outputs": [],
   "source": [
    "grid.run()"
   ]
  }
 ],
 "metadata": {
  "kernelspec": {
   "display_name": "Python 3 (ipykernel)",
   "language": "python",
   "name": "python3"
  },
  "language_info": {
   "codemirror_mode": {
    "name": "ipython",
    "version": 3
   },
   "file_extension": ".py",
   "mimetype": "text/x-python",
   "name": "python",
   "nbconvert_exporter": "python",
   "pygments_lexer": "ipython3",
   "version": "3.9.7"
  }
 },
 "nbformat": 4,
 "nbformat_minor": 5
}
